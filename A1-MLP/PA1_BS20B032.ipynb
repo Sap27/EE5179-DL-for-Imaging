{
 "cells": [
  {
   "cell_type": "markdown",
   "metadata": {},
   "source": [
    "# EE5179 - Lab-1\n",
    "\n",
    "**Name: Sapna R**   **Roll no: BS20B032**\n",
    " _____\n",
    "\n"
   ]
  },
  {
   "cell_type": "markdown",
   "metadata": {},
   "source": [
    "**Importing Required Libraries**"
   ]
  },
  {
   "cell_type": "code",
   "execution_count": null,
   "metadata": {},
   "outputs": [],
   "source": [
    "import torch\n",
    "import torch.nn as nn\n",
    "import torchvision\n",
    "import torch.optim as optim\n",
    "from torch.utils.data import DataLoader, TensorDataset\n",
    "import numpy as np\n",
    "import torchvision.datasets as datasets\n",
    "from PIL import Image\n",
    "import matplotlib.pyplot as plt\n",
    "from sklearn.metrics import confusion_matrix, accuracy_score, precision_score, recall_score, f1_score\n",
    "import pandas as pd"
   ]
  },
  {
   "cell_type": "markdown",
   "metadata": {},
   "source": [
    "**Training an MLP from scratch**"
   ]
  },
  {
   "cell_type": "code",
   "execution_count": 13,
   "metadata": {},
   "outputs": [],
   "source": [
    "def sigmoid(x):\n",
    "    return 1/(1+np.exp(-x))\n",
    "def relu(x):\n",
    "    x[np.where(x<0)]=0\n",
    "    return x\n",
    "def softmax(z):\n",
    "    return np.exp(z)/np.sum(np.exp(z))\n",
    "def tanh(x):\n",
    "    return (np.exp(x)-np.exp(-x))/(np.exp(x)+np.exp(-x))"
   ]
  },
  {
   "cell_type": "code",
   "execution_count": 14,
   "metadata": {},
   "outputs": [],
   "source": [
    "def sigmoid_prime(x):\n",
    "    return np.multiply(x,1-x)\n",
    "def relu_prime(x):\n",
    "    x[np.where(x>=0)]=1\n",
    "    x[np.where(x<0)]=0\n",
    "    return x\n",
    "def tanh_prime(x):\n",
    "    return 1-np.square(x)"
   ]
  },
  {
   "cell_type": "code",
   "execution_count": 15,
   "metadata": {},
   "outputs": [],
   "source": [
    "activation_map={'sigmoid':sigmoid,'relu':relu,'tanh':tanh}\n",
    "activation_der={'sigmoid':sigmoid_prime,'relu':relu_prime,'tanh':tanh_prime}"
   ]
  },
  {
   "cell_type": "code",
   "execution_count": 16,
   "metadata": {},
   "outputs": [],
   "source": [
    "train_data=datasets.MNIST(root='./',train=True,download=True)\n",
    "test_data=datasets.MNIST(root='./',train=False,download=True)\n",
    "X_train=np.zeros((len(train_data),28,28))\n",
    "y_train=np.zeros((len(train_data),10))\n",
    "\n",
    "for i in range(len(train_data)):\n",
    "    X_train[i]=np.array(list(train_data.__getitem__(i))[0])\n",
    "    y_train[i][list(train_data.__getitem__(i))[1]]=1\n",
    "X_test=np.zeros((len(test_data),28,28))\n",
    "y_test=np.zeros((len(test_data),10))\n",
    "for i in range(len(test_data)):\n",
    "    X_test[i]=np.array(list(test_data.__getitem__(i))[0])\n",
    "    y_test[i][list(test_data.__getitem__(i))[1]]=1"
   ]
  },
  {
   "cell_type": "code",
   "execution_count": 11,
   "metadata": {},
   "outputs": [
    {
     "data": {
      "text/plain": [
       "array([0., 1., 0., 0., 0., 0., 0., 0., 0., 0.])"
      ]
     },
     "execution_count": 11,
     "metadata": {},
     "output_type": "execute_result"
    }
   ],
   "source": [
    "y_train[8]"
   ]
  },
  {
   "cell_type": "code",
   "execution_count": 22,
   "metadata": {},
   "outputs": [],
   "source": [
    "X_train=X_train.reshape((X_train.shape[0],784))\n",
    "X_train=X_train/255\n",
    "X_test=X_test.reshape((X_test.shape[0],784))\n",
    "X_test=X_test/255"
   ]
  },
  {
   "cell_type": "code",
   "execution_count": 23,
   "metadata": {},
   "outputs": [],
   "source": [
    "class MLP:\n",
    "    def __init__(self,glorots=False,**kwargs):\n",
    "        if glorots:\n",
    "            self.weights_1=np.random.uniform(-0.0683,0.0683,(500,784))\n",
    "            self.weights_2=np.random.uniform(-0.089,0.089,(250,500))\n",
    "            self.weights_3=np.random.uniform(-0.131,0.131,(100,250))\n",
    "            self.weights_4=np.random.uniform(-0.233,0.233,(10,100))\n",
    "\n",
    "            self.bias_1=np.zeros(500)\n",
    "            self.bias_2=np.zeros(250)\n",
    "            self.bias_3=np.zeros(100)\n",
    "            self.bias_4=np.zeros(10)\n",
    "        else:\n",
    "            self.weights_1=weights_1\n",
    "            self.weights_2=weights_2\n",
    "            self.weights_3=weights_3\n",
    "            self.weights_4=weights_4\n",
    "            self.bias_1=bias_1\n",
    "            self.bias_2=bias_2\n",
    "            self.bias_3=bias_3\n",
    "            self.bias_4=bias_4\n",
    "        \n"
   ]
  },
  {
   "cell_type": "code",
   "execution_count": 24,
   "metadata": {},
   "outputs": [],
   "source": [
    "\n",
    "\n",
    "def forward_pass(network,inputs,activation='sigmoid'):\n",
    "    a1=activation_map[activation](np.matmul(inputs,network.weights_1.T)+network.bias_1)\n",
    "    a2=activation_map[activation](np.matmul(a1,network.weights_2.T)+network.bias_2)\n",
    "    a3=activation_map[activation](np.matmul(a2,network.weights_3.T)+network.bias_3)\n",
    "    z4=np.matmul(a3,network.weights_4.T)+network.bias_4\n",
    "    output=np.array([softmax(i) for i in np.array(z4)])\n",
    "    return [a1,a2,a3,z4,output]\n",
    "        \n"
   ]
  },
  {
   "cell_type": "code",
   "execution_count": 25,
   "metadata": {},
   "outputs": [],
   "source": [
    "def back_prop(network,X,y,num_epochs=15,eta=0.01,batch_size=64,activation='sigmoid'):\n",
    "    X_train=X[:50000]\n",
    "    y_train=y[:50000]\n",
    "    X_test=X[50000:]\n",
    "    y_test=y[50000:]\n",
    "    dataset = TensorDataset(torch.tensor(X_train), torch.tensor(y_train))\n",
    "    dataloader = DataLoader(dataset, batch_size=64, shuffle=True)\n",
    "    train_error=[]\n",
    "    test_error=[]\n",
    "    updates=0\n",
    "    for epoch in range(num_epochs):\n",
    "        k=0\n",
    "        for inputs,labels in dataloader:\n",
    "            [a1,a2,a3,z4,output]=forward_pass(network,np.array(inputs),activation)\n",
    "            \n",
    "            dl_dw4=0\n",
    "            dl_db4=0\n",
    "            dl_dw3=0\n",
    "            dl_db3=0\n",
    "            dl_dw2=0\n",
    "            dl_db2=0\n",
    "            dl_dw1=0\n",
    "            dl_db1=0\n",
    "            \n",
    "            \"\"\"delta_4=output-np.array(labels)\n",
    "            dl_dw4=np.outer(delta_4.T,a3)\n",
    "            dl_db4=np.sum(delta_4,axis=0)\n",
    "\n",
    "            delta_3=np.multiply(np.matmul(delta_4,network.weights_4),sigmoid_prime(a3))\n",
    "            dl_dw3=np.outer(delta_3.T,a2)\n",
    "            dl_db3=np.sum(delta_3,axis=0)\n",
    "\n",
    "            delta_2=np.multiply(np.matmul(delta_3,network.weights_3),sigmoid_prime(a2))\n",
    "            dl_dw2=np.outer(delta_2.T,a1)\n",
    "            dl_db2=np.sum(delta_2,axis=0)\n",
    "\n",
    "            delta_1=np.multiply(np.matmul(delta_2,network.weights_2),sigmoid_prime(a1))\n",
    "            dl_dw1=np.outer(delta_1.T,inputs)\n",
    "            dl_db1=np.sum(delta_1,axis=0)\n",
    "            \"\"\"\n",
    "            \n",
    "            for i in range(labels.shape[0]):\n",
    "                delta_4=output[i]-np.array(labels[i])\n",
    "                dl_dw4+=np.outer(delta_4,a3[i])\n",
    "                dl_db4+=np.array(delta_4)\n",
    "                delta_3=np.multiply(np.matmul(network.weights_4.T,delta_4),activation_der[activation](a3[i]))\n",
    "                \n",
    "                dl_dw3+=np.outer(delta_3,a2[i])\n",
    "                dl_db3+=np.array(delta_3)\n",
    "                delta_2=np.multiply(np.matmul(network.weights_3.T,delta_3),activation_der[activation](a2[i]))\n",
    "                dl_dw2+=np.outer(delta_2,a1[i])\n",
    "                dl_db2+=np.array(delta_2)\n",
    "                delta_1=np.multiply(np.matmul(network.weights_2.T,delta_2),activation_der[activation](a1[i]))\n",
    "                dl_dw1+=np.outer(delta_1,inputs[i])\n",
    "                dl_db1+=np.array(delta_1)\n",
    "            \n",
    "            \n",
    "\n",
    "            \n",
    "\n",
    "            #updates+=1\n",
    "            if updates%200==0:\n",
    "                [_,_,_,_,y_pred_train]=forward_pass(network,X_train,activation=activation)\n",
    "                [_,_,_,_,y_pred_test]=forward_pass(network,X_test,activation=activation)\n",
    "                train_loss=np.sum([-np.dot(y_train[i],np.log(y_pred_train[i])) for i in range(y_pred_train.shape[0])])/y_pred_train.shape[0]\n",
    "                test_loss=np.sum([-np.dot(y_test[i],np.log(y_pred_test[i])) for i in range(y_pred_test.shape[0])])/y_pred_test.shape[0]\n",
    "                train_error.append(train_loss)\n",
    "                test_error.append(test_loss)\n",
    "                #print(train_loss)\n",
    "                k+=1\n",
    "                #print(updates)\n",
    "            network.weights_4-=eta*dl_dw4/labels.shape[0]\n",
    "            network.bias_4-=eta*dl_db4/labels.shape[0]\n",
    "            network.weights_3-=eta*dl_dw3/labels.shape[0]\n",
    "            network.bias_3-=eta*dl_db3/labels.shape[0]\n",
    "            network.weights_2-=eta*dl_dw2/labels.shape[0]\n",
    "            network.bias_2-=eta*dl_db2/labels.shape[0]\n",
    "            network.weights_1-=eta*dl_dw1/labels.shape[0]\n",
    "            network.bias_1-=eta*dl_db1/labels.shape[0]\n",
    "            updates+=1\n",
    "    return network,train_error,test_error\n",
    "\n",
    "\n",
    "\n",
    "\n",
    "            \n",
    "\n",
    "        \n",
    "\n"
   ]
  },
  {
   "cell_type": "code",
   "execution_count": 27,
   "metadata": {},
   "outputs": [],
   "source": [
    "def accuracy(y_pred,y_truth):\n",
    "    return (1-(np.count_nonzero(np.argmax(y_pred,axis=1)-np.argmax(y_truth,axis=1)))/(y_pred.shape[0]))*100\n"
   ]
  },
  {
   "cell_type": "code",
   "execution_count": 24,
   "metadata": {},
   "outputs": [],
   "source": [
    "network=MLP(glorots=True)\n",
    "network,train_error,test_error=back_prop(network,X_train,y_train)"
   ]
  },
  {
   "cell_type": "markdown",
   "metadata": {},
   "source": [
    "Accuracy"
   ]
  },
  {
   "cell_type": "code",
   "execution_count": 29,
   "metadata": {},
   "outputs": [],
   "source": [
    "network2=MLP(glorots=True)\n",
    "network2,train_error2,test_error2=back_prop(network2,X_train,y_train,activation='relu')\n"
   ]
  },
  {
   "cell_type": "code",
   "execution_count": 30,
   "metadata": {},
   "outputs": [],
   "source": [
    "network3=MLP(glorots=True)\n",
    "network3,train_error3,test_error3=back_prop(network3,X_train,y_train,activation='tanh')\n"
   ]
  },
  {
   "cell_type": "markdown",
   "metadata": {},
   "source": [
    "**Error Plots**"
   ]
  },
  {
   "cell_type": "code",
   "execution_count": 91,
   "metadata": {},
   "outputs": [
    {
     "data": {
      "text/plain": [
       "<matplotlib.legend.Legend at 0x10f191a7c40>"
      ]
     },
     "execution_count": 91,
     "metadata": {},
     "output_type": "execute_result"
    },
    {
     "data": {
      "image/png": "[encoded data removed]",
      "text/plain": [
       "<Figure size 2160x720 with 3 Axes>"
      ]
     },
     "metadata": {
      "needs_background": "light"
     },
     "output_type": "display_data"
    }
   ],
   "source": [
    "fig,axs=plt.subplots(1,3,figsize=(30,10))\n",
    "axs[0].plot([200*i for i in range(len(train_error))],train_error,c='r',label='Train_Error')\n",
    "axs[0].plot([200*i for i in range(len(train_error))],test_error,c='b',label=\"Test_Error\")\n",
    "axs[0].set_xlabel('Iterations')\n",
    "axs[0].set_ylabel('Cross Entropy Loss')\n",
    "axs[0].set_title('Sigmoid Activation')\n",
    "axs[0].legend()\n",
    "\n",
    "axs[1].plot([200*i for i in range(len(train_error2))],train_error2,c='r',label='Train_Error')\n",
    "axs[1].plot([200*i for i in range(len(train_error2))],test_error2,c='b',label=\"Test_Error\")\n",
    "axs[1].set_xlabel('Iterations')\n",
    "axs[1].set_ylabel('Cross Entropy Loss')\n",
    "axs[1].set_title('Relu Activation')\n",
    "axs[1].legend()\n",
    "\n",
    "axs[2].plot([200*i for i in range(len(train_error3))],train_error3,c='r',label='Train_Error')\n",
    "axs[2].plot([200*i for i in range(len(train_error3))],test_error3,c='b',label=\"Test_Error\")\n",
    "axs[2].set_xlabel('Iterations')\n",
    "axs[2].set_ylabel('Cross Entropy Loss')\n",
    "axs[2].set_title('Tanh Activation')\n",
    "axs[2].legend()"
   ]
  },
  {
   "cell_type": "markdown",
   "metadata": {},
   "source": [
    "Accuracy"
   ]
  },
  {
   "cell_type": "code",
   "execution_count": 92,
   "metadata": {},
   "outputs": [
    {
     "name": "stdout",
     "output_type": "stream",
     "text": [
      "Train Error using Sigmoid Activation: 76.71833333333333\n",
      "Test Error using Sigmoid Activation: 77.01\n",
      "Train Error using Relu Activation: 94.46166666666667\n",
      "Test Error using Relu Activation: 93.9\n",
      "Train Error using Tanh Activation: 95.895\n",
      "Test Error using Tanh Activation: 95.45\n"
     ]
    }
   ],
   "source": [
    "[_,_,_,_,y_train_pred]=forward_pass(network,X_train,activation='sigmoid')\n",
    "accuracy_sig=accuracy(y_train_pred,y_train)\n",
    "[_,_,_,_,y_test_pred]=forward_pass(network,X_test,activation='sigmoid')\n",
    "accuracy_sig_test=accuracy(y_test_pred,y_test)\n",
    "\n",
    "[_,_,_,_,y_train_pred]=forward_pass(network2,X_train,activation='relu')\n",
    "accuracy_relu=accuracy(y_train_pred,y_train)\n",
    "[_,_,_,_,y_test_pred]=forward_pass(network2,X_test,activation='relu')\n",
    "accuracy_relu_test=accuracy(y_test_pred,y_test)\n",
    "\n",
    "[_,_,_,_,y_train_pred]=forward_pass(network3,X_train,activation='tanh')\n",
    "accuracy_tanh=accuracy(y_train_pred,y_train)\n",
    "[_,_,_,_,y_test_pred]=forward_pass(network3,X_test,activation='tanh')\n",
    "accuracy_tanh_test=accuracy(y_test_pred,y_test)\n",
    "\n",
    "print(f'Train Error using Sigmoid Activation: {accuracy_sig}')\n",
    "print(f'Test Error using Sigmoid Activation: {accuracy_sig_test}')\n",
    "\n",
    "print(f'Train Error using Relu Activation: {accuracy_relu}')\n",
    "print(f'Test Error using Relu Activation: {accuracy_relu_test}')\n",
    "\n",
    "print(f'Train Error using Tanh Activation: {accuracy_tanh}')\n",
    "print(f'Test Error using Tanh Activation: {accuracy_tanh_test}')\n"
   ]
  },
  {
   "cell_type": "markdown",
   "metadata": {},
   "source": [
    "Train Error using Sigmoid Activation: 76.71833333333333\n",
    "\n",
    "Test Error using Sigmoid Activation: 77.01\n",
    "\n",
    "Train Error using Relu Activation: 94.46166666666667\n",
    "\n",
    "Test Error using Relu Activation: 93.9\n",
    "\n",
    "Train Error using Tanh Activation: 95.895\n",
    "\n",
    "Test Error using Tanh Activation: 95.45\n"
   ]
  },
  {
   "cell_type": "code",
   "execution_count": 97,
   "metadata": {},
   "outputs": [
    {
     "name": "stdout",
     "output_type": "stream",
     "text": [
      "confusion_matrix on train data for sigmoid activation\n",
      "[[5494    0   92   27   25  443   96   44   65   54]\n",
      " [   1 6495  208  116   51   29   31  292  291   69]\n",
      " [  27   63 3862  219    7  226  371    7  502    8]\n",
      " [  23   17  235 4583    0  674    2    3  593   52]\n",
      " [  32    0  195   10 4579  107   85   49   70  955]\n",
      " [ 286   14  230  494   11 3282   76   48  512  113]\n",
      " [  42    2  679   23  188  156 5242    2   84   15]\n",
      " [   1   15   37  142   45   92    0 5389   97 1018]\n",
      " [  16  123  388  479   27  309   15   82 3488   48]\n",
      " [   1   13   32   38  909  103    0  349  149 3617]]\n",
      "confusion_matrix on test data for sigmoid activation\n",
      "[[ 923    0   15    3    1   64   27    4   22   14]\n",
      " [   0 1109   30    9    9    3    2   50   28   12]\n",
      " [   1    5  678   36    3   30   43    6   95    0]\n",
      " [   1    5   39  785    0  149    0    1   94    5]\n",
      " [   3    0   29    2  762   13   16    6   18  179]\n",
      " [  43    0   32   73    1  514   17   10   88   22]\n",
      " [   7    1  104    1   33   32  852    0   14    5]\n",
      " [   1    0    8   24    6   28    0  879   24  135]\n",
      " [   1   14   91   69    5   45    1   19  568    6]\n",
      " [   0    1    6    8  162   14    0   53   23  631]]\n"
     ]
    }
   ],
   "source": [
    "[_,_,_,_,y_train_pred]=forward_pass(network,X_train,activation='sigmoid')\n",
    "[_,_,_,_,y_test_pred]=forward_pass(network,X_test,activation='sigmoid')\n",
    "y_train_pred_index=np.argmax(y_train_pred,axis=1)\n",
    "y_train_index=np.argmax(y_train,axis=1)\n",
    "cm = confusion_matrix(y_train_pred_index, y_train_index)\n",
    "\n",
    "y_test_pred_index=np.argmax(y_test_pred,axis=1)\n",
    "y_test_index=np.argmax(y_test,axis=1)\n",
    "cm1 = confusion_matrix(y_test_pred_index, y_test_index)\n",
    "\n",
    "print('confusion_matrix on train data for sigmoid activation')\n",
    "print(cm)\n",
    "\n",
    "print('confusion_matrix on test data for sigmoid activation')\n",
    "print(cm1)"
   ]
  },
  {
   "cell_type": "code",
   "execution_count": 99,
   "metadata": {},
   "outputs": [
    {
     "name": "stdout",
     "output_type": "stream",
     "text": [
      "confusion_matrix on train data for relu activation\n",
      "[[5792    1   38   16    8   63   35   19   30   23]\n",
      " [   1 6590   32   26   19   15   12   21   62   19]\n",
      " [  12   34 5582   97   15   16   15   56   30    7]\n",
      " [   6   10   52 5575    4  159    3   18   67   38]\n",
      " [   9    8   53    3 5561   36   16   52   19  143]\n",
      " [  22   15   19  163    3 4900   50    9   90   23]\n",
      " [  34    4   58   15   47   81 5764    4   46    2]\n",
      " [   2    9   37   35    6    4    1 5893    6   55]\n",
      " [  34   55   67  134   21   98   22   13 5422   41]\n",
      " [  11   16   20   67  158   49    0  180   79 5598]]\n",
      "confusion_matrix on test data for relu activation\n",
      "[[ 964    0    9    2    1   10   11    0    8    8]\n",
      " [   0 1114    2    0    1    2    3    7    5    6]\n",
      " [   0    3  960   10    5    1    4   22    2    2]\n",
      " [   3    1    8  931    1   33    2    5   17    7]\n",
      " [   0    1    8    0  931    7    4    9    8   30]\n",
      " [   2    1    2   23    1  794    8    2   22    5]\n",
      " [   6    4   13    1   10   12  922    0   12    0]\n",
      " [   2    2    6    9    2    1    1  952    5    6]\n",
      " [   1    9   20   25    4   24    3    2  885    8]\n",
      " [   2    0    4    9   26    8    0   29   10  937]]\n"
     ]
    }
   ],
   "source": [
    "[_,_,_,_,y_train_pred]=forward_pass(network2,X_train,activation='relu')\n",
    "[_,_,_,_,y_test_pred]=forward_pass(network2,X_test,activation='relu')\n",
    "y_train_pred_index=np.argmax(y_train_pred,axis=1)\n",
    "y_train_index=np.argmax(y_train,axis=1)\n",
    "cm3 = confusion_matrix(y_train_pred_index, y_train_index)\n",
    "\n",
    "y_test_pred_index=np.argmax(y_test_pred,axis=1)\n",
    "y_test_index=np.argmax(y_test,axis=1)\n",
    "cm4= confusion_matrix(y_test_pred_index, y_test_index)\n",
    "\n",
    "print('confusion_matrix on train data for relu activation')\n",
    "print(cm3)\n",
    "\n",
    "print('confusion_matrix on test data for relu activation')\n",
    "print(cm4)"
   ]
  },
  {
   "cell_type": "code",
   "execution_count": 100,
   "metadata": {},
   "outputs": [
    {
     "name": "stdout",
     "output_type": "stream",
     "text": [
      "confusion_matrix on train data for tanh activation\n",
      "[[5790    1   16    8    8   26   23   15   19   20]\n",
      " [   2 6621   19   17   18   14    9   22   62   17]\n",
      " [  10   28 5687   82   24   24   14   45   26    7]\n",
      " [   7   16   38 5776    2  103    0    6   72   42]\n",
      " [   7    7   46    3 5580   25   12   38   12   86]\n",
      " [  19    9   12   71    2 5047   32    5   38   17]\n",
      " [  33    1   35   14   37   65 5802    2   32    2]\n",
      " [   4   10   44   41   10   11    1 6037   13   69]\n",
      " [  37   37   48   85   10   68   25    8 5538   30]\n",
      " [  14   12   13   34  151   38    0   87   39 5659]]\n",
      "confusion_matrix on test data for tanh activation\n",
      "[[ 966    0    5    0    1   10    9    1    4    7]\n",
      " [   0 1118    1    1    1    3    3   10    3    7]\n",
      " [   1    2  983   12    8    2    6   16    4    2]\n",
      " [   3    2    6  966    0   23    1    3   15    8]\n",
      " [   0    1    7    0  927    2    2    3    4   16]\n",
      " [   2    1    1    5    0  815    7    1    6    4]\n",
      " [   4    4    7    1    5   12  926    0    6    1]\n",
      " [   1    2    8    8    3    2    1  973   10    6]\n",
      " [   2    5   12   12    3   15    3    0  920    7]\n",
      " [   1    0    2    5   34    8    0   21    2  951]]\n"
     ]
    }
   ],
   "source": [
    "[_,_,_,_,y_train_pred]=forward_pass(network3,X_train,activation='tanh')\n",
    "[_,_,_,_,y_test_pred]=forward_pass(network3,X_test,activation='tanh')\n",
    "y_train_pred_index=np.argmax(y_train_pred,axis=1)\n",
    "y_train_index=np.argmax(y_train,axis=1)\n",
    "cm5 = confusion_matrix(y_train_pred_index, y_train_index)\n",
    "\n",
    "y_test_pred_index=np.argmax(y_test_pred,axis=1)\n",
    "y_test_index=np.argmax(y_test,axis=1)\n",
    "cm6= confusion_matrix(y_test_pred_index, y_test_index)\n",
    "\n",
    "print('confusion_matrix on train data for tanh activation')\n",
    "print(cm5)\n",
    "\n",
    "print('confusion_matrix on test data for tanh activation')\n",
    "print(cm6)"
   ]
  },
  {
   "cell_type": "markdown",
   "metadata": {},
   "source": [
    "Comments:\n",
    "\n",
    "1. MLP trained with Relu and Tanh as activation show a much steeper decrease in loss compared to when using sigmoid activation.\n",
    "2. The tanh activation emerged as the best performing activation function.\n",
    "3. The sigmoid activation did not perform as well as the Relu and tanh activations respectively due to issues like saturating gradients and non negative activation values etc"
   ]
  },
  {
   "cell_type": "markdown",
   "metadata": {},
   "source": [
    "# Utlising Pytorch"
   ]
  },
  {
   "cell_type": "code",
   "execution_count": 67,
   "metadata": {},
   "outputs": [],
   "source": [
    "class MLP_adam(nn.Module):\n",
    "\n",
    "    def __init__(self, input_dim=784, hidden_dim1=500, hidden_dim2=250, hidden_dim3=100, output_dim=10):\n",
    "        super(MLP_adam, self).__init__()\n",
    "        self.layer1 = nn.Linear(input_dim, hidden_dim1)\n",
    "        \n",
    "        self.layer2 = nn.Linear(hidden_dim1, hidden_dim2)\n",
    "        self.layer3 = nn.Linear(hidden_dim2, hidden_dim3)\n",
    "        self.output_layer = nn.Linear( hidden_dim3, output_dim)\n",
    "        self.relu = nn.ReLU()\n",
    "        self.sigmoid = nn.Sigmoid()\n",
    "        self.tanh=nn.Tanh()\n",
    "        self.softmax=nn.Softmax()\n",
    "        \"\"\"torch.nn.init.xavier_uniform_(self.layer1.weight)\n",
    "        torch.nn.init.xavier_uniform_(self.layer2.weight)\n",
    "        torch.nn.init.xavier_uniform_(self.layer3.weight)\n",
    "        torch.nn.init.xavier_uniform_(self.output_layer.weight)\"\"\"\n",
    "\n",
    "    def forward(self, x):\n",
    "        # First layer\n",
    "        out1 = self.tanh(self.layer1(x))\n",
    "\n",
    "        # Second layer\n",
    "        out2 = self.tanh(self.layer2(out1))\n",
    "\n",
    "        # Third layer\n",
    "        out3 = self.tanh(self.layer3(out2))\n",
    "\n",
    "\n",
    "        output = (self.output_layer(out3))\n",
    "\n",
    "        return output"
   ]
  },
  {
   "cell_type": "code",
   "execution_count": 109,
   "metadata": {},
   "outputs": [],
   "source": [
    "def train_model(model, X,y, criterion, optimizer, num_epochs=10, device='cpu'):\n",
    "    X_train=X[:50000]\n",
    "    y_train=y[:50000]\n",
    "    X_test=X[50000:]\n",
    "    y_test=y[50000:]\n",
    "    dataset = TensorDataset(torch.Tensor(X_train), torch.Tensor(y_train))\n",
    "    dataloader = DataLoader(dataset, batch_size=batch_size, shuffle=True)\n",
    "    model.train()\n",
    "    train_error=[]\n",
    "    test_error=[]\n",
    "\n",
    "    updates=0\n",
    "    for epoch in range(num_epochs):\n",
    "        running_loss = 0.0\n",
    "        for inputs, labels in dataloader:\n",
    "            inputs, labels = inputs.to(device), labels.to(device)\n",
    "\n",
    "            if updates%200==0:\n",
    "                train_output = model(torch.tensor(X_train, dtype=torch.float32).to(device))\n",
    "                train_loss = criterion(train_output, torch.tensor(y_train,dtype=torch.float32))\n",
    "                train_error.append(train_loss.item())\n",
    "                test_output=model(torch.tensor(X_test,dtype=torch.float32).to(device))\n",
    "                test_loss=criterion(test_output,torch.tensor(y_test,dtype=torch.float32))\n",
    "                test_error.append(test_loss.item())\n",
    "                #print(train_loss)\n",
    "                \n",
    "            # Zero the parameter gradients\n",
    "            updates+=1\n",
    "            optimizer.zero_grad()\n",
    "\n",
    "            # Forward pass\n",
    "            outputs = model(inputs)\n",
    "            loss = criterion(outputs, labels)\n",
    "\n",
    "            # Backward pass and optimize\n",
    "            loss.backward()\n",
    "            optimizer.step()\n",
    "            running_loss += loss.item()\n",
    "\n",
    "\n",
    "\n",
    "        print(f'Epoch [{epoch+1}/{num_epochs}], Loss: {running_loss/len(dataloader):.4f}')\n",
    "\n",
    "    print('Training complete.')\n",
    "    return [model,train_error,test_error]\n"
   ]
  },
  {
   "cell_type": "code",
   "execution_count": 110,
   "metadata": {},
   "outputs": [],
   "source": [
    "device = torch.device(\"cuda\" if torch.cuda.is_available() else \"cpu\")\n",
    "\n",
    "batch_size = 64\n",
    "learning_rate = 0.01\n",
    "num_epochs = 15\n",
    "\n",
    "model = MLP_adam().to(device)\n",
    "criterion = nn.CrossEntropyLoss()\n",
    "\n",
    "optimizer = optim.Adam(model.parameters(), lr=learning_rate)\n",
    "\n",
    "\n",
    "[model,train_error_adam,test_error_adam]=train_model(model, X_train,y_train, criterion, optimizer, num_epochs=num_epochs, device=device)"
   ]
  },
  {
   "cell_type": "code",
   "execution_count": 114,
   "metadata": {},
   "outputs": [
    {
     "data": {
      "text/plain": [
       "Text(0, 0.5, 'Cross Entropy Loss')"
      ]
     },
     "execution_count": 114,
     "metadata": {},
     "output_type": "execute_result"
    },
    {
     "data": {
      "image/png": "[encoded data removed]",
      "text/plain": [
       "<Figure size 432x288 with 1 Axes>"
      ]
     },
     "metadata": {
      "needs_background": "light"
     },
     "output_type": "display_data"
    }
   ],
   "source": [
    "plt.plot([200*i for i in range(len(train_error_adam))],train_error_adam,c='r',label='Train_Error')\n",
    "plt.plot([200*i for i in range(len(test_error_adam))],test_error_adam,c='b',label='Test_Error')\n",
    "plt.legend()\n",
    "plt.xlabel('Iterations')\n",
    "plt.ylabel('Cross Entropy Loss')"
   ]
  },
  {
   "cell_type": "code",
   "execution_count": 121,
   "metadata": {},
   "outputs": [
    {
     "name": "stdout",
     "output_type": "stream",
     "text": [
      "Train Accuracy using Tanh activation and Adam optimizer: 97.725\n",
      "Test Accuracy using Tanh activation and Adam optimizer :96.66\n"
     ]
    }
   ],
   "source": [
    "y_pred_train=model(torch.tensor(X_train, dtype=torch.float32).to(device)).detach().cpu().numpy()\n",
    "y_pred_test=model(torch.tensor(X_test, dtype=torch.float32).to(device)).detach().cpu().numpy()\n",
    "accuracy_train=accuracy(y_pred_train,y_train)\n",
    "accuracy_test=accuracy(y_pred_test,y_test)\n",
    "print(f'Train Accuracy using Tanh activation and Adam optimizer: {accuracy_train}')\n",
    "print(f'Test Accuracy using Tanh activation and Adam optimizer :{ accuracy_test}')\n"
   ]
  },
  {
   "cell_type": "markdown",
   "metadata": {},
   "source": [
    "Train Accuracy using Tanh activation and Adam optimizer: 97.725\n",
    "\n",
    "Test Accuracy using Tanh activation and Adam optimizer :96.66\n"
   ]
  },
  {
   "cell_type": "code",
   "execution_count": 124,
   "metadata": {},
   "outputs": [
    {
     "name": "stdout",
     "output_type": "stream",
     "text": [
      "confusion_matrix on train data for Tanh activation using ADAM\n",
      "[[5747    0    1    0    0    2    3    0    6    4]\n",
      " [   0 6680    3    5    1    1    0   11    8    2]\n",
      " [   5    7 5781   35    0    3    0    0    9    0]\n",
      " [   0    5   10 5929    0   19    3    0    7   26]\n",
      " [   0    8    1    0 5787    1    6    2    2   52]\n",
      " [   0    1    1   33    1 5263    0    0   13   15]\n",
      " [  44    3    5    2    3   73 5897    0   45    0]\n",
      " [   0    4   50   41   11    1    0 6228   14  151]\n",
      " [ 126   33  105   76   26   42    8   21 5736  112]\n",
      " [   1    1    1   10   13   16    1    3   11 5587]]\n",
      "confusion_matrix on test data for Tanh activation using ADAM\n",
      "[[ 937    0    0    0    0    2    2    0    4    0]\n",
      " [   0 1122    0    0    0    0    2    2    0    2]\n",
      " [   1    1  988    6    1    0    0    5    3    0]\n",
      " [   0    1    1  970    0    7    0    1    5    4]\n",
      " [   0    0    0    1  958    0    1    1    2   13]\n",
      " [   0    0    0    9    0  860    2    0    3    2]\n",
      " [   6    2    2    0    4   11  943    0   10    1]\n",
      " [   1    0   13    5    3    2    0 1010   10   17]\n",
      " [  33    9   28   14    7    9    8    7  936   28]\n",
      " [   2    0    0    5    9    1    0    2    1  942]]\n"
     ]
    }
   ],
   "source": [
    "y_train_pred_index=np.argmax(y_pred_train,axis=1)\n",
    "y_train_index=np.argmax(y_train,axis=1)\n",
    "cm7 = confusion_matrix(y_train_pred_index, y_train_index)\n",
    "\n",
    "y_test_pred_index=np.argmax(y_pred_test,axis=1)\n",
    "y_test_index=np.argmax(y_test,axis=1)\n",
    "cm8= confusion_matrix(y_test_pred_index, y_test_index)\n",
    "\n",
    "print('confusion_matrix on train data for Tanh activation using ADAM')\n",
    "print(cm7)\n",
    "\n",
    "print('confusion_matrix on test data for Tanh activation using ADAM')\n",
    "print(cm8)"
   ]
  },
  {
   "cell_type": "markdown",
   "metadata": {},
   "source": [
    "**Comments**\n",
    "1. The overall train and test accuracy on using the tanh activation for hidden layers has improved from 95.895 to 97.725 and 94.5 to 96.6 on utlising the ADAM optimiser.\n",
    "2. The train and test error have also gone down by a factor of 2 from being ~1.6 to 0.086 etc.\n",
    "3. The confusion matrix also indicates that the off diagonal elements are more closer to zero indicating better classification\n"
   ]
  },
  {
   "cell_type": "markdown",
   "metadata": {},
   "source": [
    "# Regularisation"
   ]
  },
  {
   "cell_type": "code",
   "execution_count": 128,
   "metadata": {},
   "outputs": [
    {
     "name": "stdout",
     "output_type": "stream",
     "text": [
      "Epoch [1/15], Loss: 0.3090\n",
      "Epoch [2/15], Loss: 0.1918\n",
      "Epoch [3/15], Loss: 0.1718\n",
      "Epoch [4/15], Loss: 0.1599\n",
      "Epoch [5/15], Loss: 0.1440\n",
      "Epoch [6/15], Loss: 0.1462\n",
      "Epoch [7/15], Loss: 0.1399\n",
      "Epoch [8/15], Loss: 0.1325\n",
      "Epoch [9/15], Loss: 0.1347\n",
      "Epoch [10/15], Loss: 0.1315\n",
      "Epoch [11/15], Loss: 0.1313\n",
      "Epoch [12/15], Loss: 0.1329\n",
      "Epoch [13/15], Loss: 0.1297\n",
      "Epoch [14/15], Loss: 0.1302\n",
      "Epoch [15/15], Loss: 0.1276\n",
      "Training complete.\n"
     ]
    }
   ],
   "source": [
    "batch_size = 64\n",
    "learning_rate = 0.01\n",
    "num_epochs = 15\n",
    "\n",
    "model1 = MLP_adam().to(device)\n",
    "criterion = nn.CrossEntropyLoss()\n",
    "\n",
    "optimizer = optim.Adam(model1.parameters(), lr=learning_rate,weight_decay=1e-4)\n",
    "\n",
    "\n",
    "[model1,train_error_r1,test_error_r2]=train_model(model1, X_train,y_train, criterion, optimizer, num_epochs=num_epochs, device=device)"
   ]
  },
  {
   "cell_type": "code",
   "execution_count": 129,
   "metadata": {},
   "outputs": [
    {
     "name": "stdout",
     "output_type": "stream",
     "text": [
      "Epoch [1/15], Loss: 0.4827\n",
      "Epoch [2/15], Loss: 0.3553\n",
      "Epoch [3/15], Loss: 0.3473\n",
      "Epoch [4/15], Loss: 0.3336\n",
      "Epoch [5/15], Loss: 0.3289\n",
      "Epoch [6/15], Loss: 0.3323\n",
      "Epoch [7/15], Loss: 0.3198\n",
      "Epoch [8/15], Loss: 0.3186\n",
      "Epoch [9/15], Loss: 0.3188\n",
      "Epoch [10/15], Loss: 0.3213\n",
      "Epoch [11/15], Loss: 0.3202\n",
      "Epoch [12/15], Loss: 0.3193\n",
      "Epoch [13/15], Loss: 0.3159\n",
      "Epoch [14/15], Loss: 0.3175\n",
      "Epoch [15/15], Loss: 0.3195\n",
      "Training complete.\n"
     ]
    }
   ],
   "source": [
    "batch_size = 64\n",
    "learning_rate = 0.01\n",
    "num_epochs = 15\n",
    "\n",
    "model2 = MLP_adam().to(device)\n",
    "criterion = nn.CrossEntropyLoss()\n",
    "\n",
    "optimizer = optim.Adam(model2.parameters(), lr=learning_rate,weight_decay=1e-2)\n",
    "\n",
    "\n",
    "[model2,train_error_r2,test_error_r2_]=train_model(model2, X_train,y_train, criterion, optimizer, num_epochs=num_epochs, device=device)"
   ]
  },
  {
   "cell_type": "code",
   "execution_count": 131,
   "metadata": {},
   "outputs": [
    {
     "name": "stdout",
     "output_type": "stream",
     "text": [
      "Epoch [1/15], Loss: 0.3401\n",
      "Epoch [2/15], Loss: 0.2280\n",
      "Epoch [3/15], Loss: 0.2138\n",
      "Epoch [4/15], Loss: 0.2054\n",
      "Epoch [5/15], Loss: 0.1986\n",
      "Epoch [6/15], Loss: 0.1964\n",
      "Epoch [7/15], Loss: 0.1927\n",
      "Epoch [8/15], Loss: 0.1931\n",
      "Epoch [9/15], Loss: 0.1895\n",
      "Epoch [10/15], Loss: 0.1924\n",
      "Epoch [11/15], Loss: 0.1899\n",
      "Epoch [12/15], Loss: 0.1905\n",
      "Epoch [13/15], Loss: 0.1884\n",
      "Epoch [14/15], Loss: 0.1921\n",
      "Epoch [15/15], Loss: 0.1884\n",
      "Training complete.\n"
     ]
    }
   ],
   "source": [
    "batch_size = 64\n",
    "learning_rate = 0.01\n",
    "num_epochs = 15\n",
    "\n",
    "model3 = MLP_adam().to(device)\n",
    "criterion = nn.CrossEntropyLoss()\n",
    "\n",
    "optimizer = optim.Adam(model3.parameters(), lr=learning_rate,weight_decay=1e-3)\n",
    "\n",
    "\n",
    "[model3,train_error_r3,test_error_r3]=train_model(model3, X_train,y_train, criterion, optimizer, num_epochs=num_epochs, device=device)"
   ]
  },
  {
   "cell_type": "code",
   "execution_count": 132,
   "metadata": {},
   "outputs": [
    {
     "name": "stdout",
     "output_type": "stream",
     "text": [
      "Epoch [1/15], Loss: 0.4129\n",
      "Epoch [2/15], Loss: 0.3008\n",
      "Epoch [3/15], Loss: 0.2848\n",
      "Epoch [4/15], Loss: 0.2756\n",
      "Epoch [5/15], Loss: 0.2748\n",
      "Epoch [6/15], Loss: 0.2762\n",
      "Epoch [7/15], Loss: 0.2741\n",
      "Epoch [8/15], Loss: 0.2699\n",
      "Epoch [9/15], Loss: 0.2641\n",
      "Epoch [10/15], Loss: 0.2700\n",
      "Epoch [11/15], Loss: 0.2620\n",
      "Epoch [12/15], Loss: 0.2678\n",
      "Epoch [13/15], Loss: 0.2624\n",
      "Epoch [14/15], Loss: 0.2646\n",
      "Epoch [15/15], Loss: 0.2647\n",
      "Training complete.\n"
     ]
    }
   ],
   "source": [
    "model4 = MLP_adam().to(device)\n",
    "criterion = nn.CrossEntropyLoss()\n",
    "\n",
    "optimizer = optim.Adam(model4.parameters(), lr=learning_rate,weight_decay=5e-3)\n",
    "\n",
    "\n",
    "[model4,train_error_r4,test_error_r4]=train_model(model4, X_train,y_train, criterion, optimizer, num_epochs=num_epochs, device=device)"
   ]
  },
  {
   "cell_type": "code",
   "execution_count": 138,
   "metadata": {},
   "outputs": [
    {
     "data": {
      "text/plain": [
       "<matplotlib.legend.Legend at 0x1da31fe7a30>"
      ]
     },
     "execution_count": 138,
     "metadata": {},
     "output_type": "execute_result"
    },
    {
     "data": {
      "image/png": "[encoded data removed]",
      "text/plain": [
       "<Figure size 1440x1440 with 4 Axes>"
      ]
     },
     "metadata": {
      "needs_background": "light"
     },
     "output_type": "display_data"
    }
   ],
   "source": [
    "fig,axs=plt.subplots(2,2,figsize=(20,20))\n",
    "axs[0,0].plot([200*i for i in range(len(train_error_r1))],train_error_r1,c='r',label='Train_Error')\n",
    "axs[0,0].plot([200*i for i in range(len(train_error_r2))],test_error_r2,c='b',label=\"Test_Error\")\n",
    "axs[0,0].set_xlabel('Iterations')\n",
    "axs[0,0].set_ylabel('Cross Entropy Loss')\n",
    "axs[0,0].set_title('Regularisation constant:1e-4')\n",
    "axs[0,0].legend()\n",
    "\n",
    "axs[0,1].plot([200*i for i in range(len(train_error_r3))],train_error_r3,c='r',label='Train_Error')\n",
    "axs[0,1].plot([200*i for i in range(len(train_error_r3))],test_error_r3,c='b',label=\"Test_Error\")\n",
    "axs[0,1].set_xlabel('Iterations')\n",
    "axs[0,1].set_ylabel('Cross Entropy Loss')\n",
    "axs[0,1].set_title('Regularisation constant:1e-3')\n",
    "axs[0,1].legend()\n",
    "\n",
    "axs[1,0].plot([200*i for i in range(len(train_error_r4))],train_error_r4,c='r',label='Train_Error')\n",
    "axs[1,0].plot([200*i for i in range(len(train_error_r4))],test_error_r4,c='b',label=\"Test_Error\")\n",
    "axs[1,0].set_xlabel('Iterations')\n",
    "axs[1,0].set_ylabel('Cross Entropy Loss')\n",
    "axs[1,0].set_title('Regularisation constant:5e-3')\n",
    "axs[1,0].legend()\n",
    "\n",
    "axs[1,1].plot([200*i for i in range(len(train_error_r2))],train_error_r2,c='r',label='Train_Error')\n",
    "axs[1,1].plot([200*i for i in range(len(test_error_r2_))],test_error_r2_,c='b',label=\"Test_Error\")\n",
    "axs[1,1].set_xlabel('Iterations')\n",
    "axs[1,1].set_ylabel('Cross Entropy Loss')\n",
    "axs[1,1].set_title('Regularisation constant:1e-2')\n",
    "axs[1,1].legend()"
   ]
  },
  {
   "cell_type": "code",
   "execution_count": 134,
   "metadata": {},
   "outputs": [
    {
     "name": "stdout",
     "output_type": "stream",
     "text": [
      "Train Accuracy using Tanh activation and Adam optimizer with alpha=1e-4: 97.26833333333333\n",
      "Test Accuracy using Tanh activation and Adam optimizer with alpha=1e-4:96.5\n",
      "Train Accuracy using Tanh activation and Adam optimizer with alpha=1e-3: 94.22833333333334\n",
      "Test Accuracy using Tanh activation and Adam optimizer with alpha=1e-3:93.95\n",
      "Train Accuracy using Tanh activation and Adam optimizer with alpha=5e-3: 92.735\n",
      "Test Accuracy using Tanh activation and Adam optimizer with alpha=5e-3:92.67999999999999\n",
      "Train Accuracy using Tanh activation and Adam optimizer with alpha=1e-2: 91.39\n",
      "Test Accuracy using Tanh activation and Adam optimizer with alpha=1e-2:92.01\n"
     ]
    }
   ],
   "source": [
    "y_pred_train1=model1(torch.tensor(X_train, dtype=torch.float32).to(device)).detach().cpu().numpy()\n",
    "y_pred_test1=model1(torch.tensor(X_test, dtype=torch.float32).to(device)).detach().cpu().numpy()\n",
    "accuracy_train1=accuracy(y_pred_train1,y_train)\n",
    "accuracy_test1=accuracy(y_pred_test1,y_test)\n",
    "\n",
    "y_pred_train2=model2(torch.tensor(X_train, dtype=torch.float32).to(device)).detach().cpu().numpy()\n",
    "y_pred_test2=model2(torch.tensor(X_test, dtype=torch.float32).to(device)).detach().cpu().numpy()\n",
    "accuracy_train2=accuracy(y_pred_train2,y_train)\n",
    "accuracy_test2=accuracy(y_pred_test2,y_test)\n",
    "\n",
    "y_pred_train3=model3(torch.tensor(X_train, dtype=torch.float32).to(device)).detach().cpu().numpy()\n",
    "y_pred_test3=model3(torch.tensor(X_test, dtype=torch.float32).to(device)).detach().cpu().numpy()\n",
    "accuracy_train3=accuracy(y_pred_train3,y_train)\n",
    "accuracy_test3=accuracy(y_pred_test3,y_test)\n",
    "\n",
    "y_pred_train4=model4(torch.tensor(X_train, dtype=torch.float32).to(device)).detach().cpu().numpy()\n",
    "y_pred_test4=model4(torch.tensor(X_test, dtype=torch.float32).to(device)).detach().cpu().numpy()\n",
    "accuracy_train4=accuracy(y_pred_train4,y_train)\n",
    "accuracy_test4=accuracy(y_pred_test4,y_test)\n",
    "\n",
    "print(f'Train Accuracy using Tanh activation and Adam optimizer with alpha=1e-4: {accuracy_train1}')\n",
    "print(f'Test Accuracy using Tanh activation and Adam optimizer with alpha=1e-4:{ accuracy_test1}')\n",
    "\n",
    "print(f'Train Accuracy using Tanh activation and Adam optimizer with alpha=1e-3: {accuracy_train3}')\n",
    "print(f'Test Accuracy using Tanh activation and Adam optimizer with alpha=1e-3:{ accuracy_test3}')\n",
    "\n",
    "print(f'Train Accuracy using Tanh activation and Adam optimizer with alpha=5e-3: {accuracy_train4}')\n",
    "print(f'Test Accuracy using Tanh activation and Adam optimizer with alpha=5e-3:{ accuracy_test4}')\n",
    "\n",
    "print(f'Train Accuracy using Tanh activation and Adam optimizer with alpha=1e-2: {accuracy_train2}')\n",
    "print(f'Test Accuracy using Tanh activation and Adam optimizer with alpha=1e-2:{ accuracy_test2}')\n"
   ]
  },
  {
   "cell_type": "markdown",
   "metadata": {},
   "source": [
    "Train Accuracy using Tanh activation and Adam optimizer with alpha=1e-4: 97.26833333333333\n",
    "\n",
    "Test Accuracy using Tanh activation and Adam optimizer with alpha=1e-4:96.5\n",
    "\n",
    "Train Accuracy using Tanh activation and Adam optimizer with alpha=1e-3: 94.22833333333334\n",
    "\n",
    "Test Accuracy using Tanh activation and Adam optimizer with alpha=1e-3:93.95\n",
    "\n",
    "Train Accuracy using Tanh activation and Adam optimizer with alpha=5e-3: 92.735\n",
    "\n",
    "Test Accuracy using Tanh activation and Adam optimizer with alpha=5e-3:92.67999999999999\n",
    "\n",
    "Train Accuracy using Tanh activation and Adam optimizer with alpha=1e-2: 91.39\n",
    "\n",
    "Test Accuracy using Tanh activation and Adam optimizer with alpha=1e-2:92.01\n"
   ]
  },
  {
   "cell_type": "code",
   "execution_count": 139,
   "metadata": {},
   "outputs": [
    {
     "name": "stdout",
     "output_type": "stream",
     "text": [
      "confusion_matrix on train data for Tanh activation using ADAM with alpha:1e-4\n",
      "[[5824    1    8    0    3   16   16   20   13   14]\n",
      " [   1 6673   21    2    4    1    3    5   27    4]\n",
      " [  22   23 5830   58   24    6    8   79   35    3]\n",
      " [   3    6   35 5926    2   37    3   12   31   35]\n",
      " [   4    3    5    1 5608    2   15    3    6   17]\n",
      " [  21    2    9   85    3 5299  109    2  110   30]\n",
      " [  18    2    6    1   16    7 5748    0    7    1]\n",
      " [   0   13   12   17   16    1    0 6089   20   49]\n",
      " [  28   11   32   29    7   22   16    0 5587   19]\n",
      " [   2    8    0   12  159   30    0   55   15 5777]]\n",
      "confusion_matrix on test data for Tanh activation using ADAM with alpha:1e-4\n",
      "[[ 969    0    2    0    1    3    6    1    8    5]\n",
      " [   0 1122    3    1    0    0    2    3    0    5]\n",
      " [   2    3 1008    6    7    0    1   26   14    1]\n",
      " [   0    3    5  977    0   10    1    2    9    9]\n",
      " [   0    0    0    0  928    0    7    0    2    5]\n",
      " [   2    1    1   15    0  868   19    0   19    7]\n",
      " [   4    0    1    0    5    2  917    0    3    1]\n",
      " [   1    2    2    5    2    1    0  982    6    5]\n",
      " [   2    4   10    4    2    3    5    2  912    4]\n",
      " [   0    0    0    2   37    5    0   12    1  967]]\n"
     ]
    }
   ],
   "source": [
    "y_train_pred_index1=np.argmax(y_pred_train1,axis=1)\n",
    "y_train_index1=np.argmax(y_train,axis=1)\n",
    "cm9 = confusion_matrix(y_train_pred_index1, y_train_index1)\n",
    "\n",
    "y_test_pred_index1=np.argmax(y_pred_test1,axis=1)\n",
    "y_test_index1=np.argmax(y_test,axis=1)\n",
    "cm10= confusion_matrix(y_test_pred_index1, y_test_index1)\n",
    "\n",
    "print('confusion_matrix on train data for Tanh activation using ADAM with alpha:1e-4')\n",
    "print(cm9)\n",
    "\n",
    "print('confusion_matrix on test data for Tanh activation using ADAM with alpha:1e-4')\n",
    "print(cm10)"
   ]
  },
  {
   "cell_type": "markdown",
   "metadata": {},
   "source": [
    "**Comments**\n",
    "1. L2 Regularisation was implemented with alpha :1e-4,1e-3,5e-3,1e-2 respectively.\n",
    "2. In this case, the L2 regularisation has not helped increase the train and test accuracy in comparsion to when the regularisation is not used . Infact, the train and test accuracy show a marginal decrease as the alpha values are increased.\n"
   ]
  }
 ],
 "metadata": {
  "kernelspec": {
   "display_name": "Python 3",
   "language": "python",
   "name": "python3"
  },
  "language_info": {
   "codemirror_mode": {
    "name": "ipython",
    "version": 3
   },
   "file_extension": ".py",
   "mimetype": "text/x-python",
   "name": "python",
   "nbconvert_exporter": "python",
   "pygments_lexer": "ipython3",
   "version": "3.10.4"
  }
 },
 "nbformat": 4,
 "nbformat_minor": 2
}
